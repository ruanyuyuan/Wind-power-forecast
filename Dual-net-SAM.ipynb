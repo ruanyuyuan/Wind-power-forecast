{
 "cells": [
  {
   "cell_type": "code",
   "execution_count": null,
   "id": "0478e87c",
   "metadata": {},
   "outputs": [],
   "source": [
    "import numpy as np\n",
    "import pandas as pd\n",
    "import matplotlib.pyplot as plt\n",
    "import seaborn as sns"
   ]
  },
  {
   "cell_type": "code",
   "execution_count": null,
   "id": "da507265",
   "metadata": {},
   "outputs": [],
   "source": [
    "df = pd.read_csv('wind2019.csv')\n",
    "df.head(100)"
   ]
  },
  {
   "cell_type": "code",
   "execution_count": null,
   "id": "0ad6ecbf",
   "metadata": {},
   "outputs": [],
   "source": [
    "idx_df = df.set_index(['时间'])\n",
    "idx_df.describe().T  #用于计算数值列的描述性统计信息，如计数、均值、标准差、最小值、最大值等"
   ]
  },
  {
   "cell_type": "code",
   "execution_count": null,
   "id": "3d9102a1",
   "metadata": {},
   "outputs": [],
   "source": [
    "idx_df.head(10)"
   ]
  },
  {
   "cell_type": "code",
   "execution_count": null,
   "id": "6c5feb45",
   "metadata": {},
   "outputs": [],
   "source": [
    "idx_df.isnull().sum()#DataFrame 中每列的缺失值数量。通过这个操作，您可以了解每列中缺失值的分布情况，并进行进一步的数据清洗或处理。"
   ]
  },
  {
   "cell_type": "code",
   "execution_count": null,
   "id": "48960f5b",
   "metadata": {},
   "outputs": [],
   "source": [
    "import matplotlib.font_manager as font_manager\n",
    "\n",
    "# 指定中文字体文件路径\n",
    "font_path = 'C:/Windows/Fonts/simsun.ttc'\n",
    "\n",
    "# 加载中文字体\n",
    "prop = font_manager.FontProperties(fname=font_path)\n",
    "\n",
    "# 设置中文字体为默认字体\n",
    "plt.rcParams['font.family'] = prop.get_name()\n",
    "fig,ax = plt.subplots(figsize = (10,10))\n",
    "sns.heatmap(idx_df.corr(),ax=ax,annot = True)"
   ]
  },
  {
   "cell_type": "code",
   "execution_count": null,
   "id": "9c2a4974",
   "metadata": {},
   "outputs": [],
   "source": [
    "idx_df.corr()['实际发电功率（mw）'].sort_values(ascending=False)"
   ]
  },
  {
   "cell_type": "code",
   "execution_count": null,
   "id": "6b3749bc",
   "metadata": {},
   "outputs": [],
   "source": [
    "idx_df.shape"
   ]
  },
  {
   "cell_type": "code",
   "execution_count": null,
   "id": "f5e79420",
   "metadata": {},
   "outputs": [],
   "source": [
    "idx_df.info()"
   ]
  },
  {
   "cell_type": "code",
   "execution_count": 12,
   "id": "53e4e4ce",
   "metadata": {},
   "outputs": [
    {
     "name": "stdout",
     "output_type": "stream",
     "text": [
      "[[2.23000000e-01 0.00000000e+00 0.00000000e+00 ... 8.98710000e+02\n",
      "  5.34970000e+01 9.79591000e-01]\n",
      " [0.00000000e+00 0.00000000e+00 0.00000000e+00 ... 8.98621000e+02\n",
      "  5.59990000e+01 1.15098400e+00]\n",
      " [0.00000000e+00 0.00000000e+00 0.00000000e+00 ... 8.98497000e+02\n",
      "  5.77470000e+01 1.06616200e+00]\n",
      " ...\n",
      " [7.46400000e+00 8.15300000e+00 8.76500000e+00 ... 8.88383000e+02\n",
      "  4.11360000e+01 1.34717210e+02]\n",
      " [5.70500000e+00 7.15800000e+00 8.07600000e+00 ... 8.88389000e+02\n",
      "  4.12880000e+01 1.26557410e+02]\n",
      " [7.15800000e+00 8.00000000e+00 9.68300000e+00 ... 8.88469000e+02\n",
      "  4.01230000e+01 1.09673615e+02]]\n",
      "(35040, 8)\n"
     ]
    }
   ],
   "source": [
    "\n",
    "df2 = idx_df.drop(['测风塔50m风向(°)','测风塔10m风向(°)'],axis=1)\n",
    "\n",
    "x = df2.iloc[:,:].values #转化成numpy类型\n",
    "print(x)\n",
    "print(x.shape)"
   ]
  },
  {
   "cell_type": "code",
   "execution_count": 13,
   "id": "5e577118",
   "metadata": {},
   "outputs": [
    {
     "name": "stdout",
     "output_type": "stream",
     "text": [
      "Feature 0: Max Value = 19.246, Min Value = 0.0\n",
      "Feature 1: Max Value = 21.055999999999997, Min Value = 0.0\n",
      "Feature 2: Max Value = 22.381999999999998, Min Value = 0.0\n",
      "Feature 3: Max Value = 360.0, Min Value = 0.0\n",
      "Feature 4: Max Value = 40.131, Min Value = -18.662\n",
      "Feature 5: Max Value = 905.307, Min Value = 874.584\n",
      "Feature 6: Max Value = 94.921, Min Value = 2.506\n",
      "Feature 7: Max Value = 202.22884, Min Value = 0.25836\n"
     ]
    }
   ],
   "source": [
    "from sklearn.preprocessing import MinMaxScaler\n",
    "x_sc = MinMaxScaler()\n",
    "x = x_sc.fit_transform(x)\n",
    "# print(x.shape)\n",
    "# print(x)\n",
    "\n",
    "# 获取归一化时用的最大值和最小值\n",
    "max_values = x_sc.data_max_\n",
    "min_values = x_sc.data_min_\n",
    "\n",
    "# 打印每个特征的最大值和最小值\n",
    "for feature, max_val, min_val in zip(range(len(max_values)), max_values, min_values):\n",
    "    print(f\"Feature {feature}: Max Value = {max_val}, Min Value = {min_val}\")"
   ]
  },
  {
   "cell_type": "code",
   "execution_count": 14,
   "id": "1159931a",
   "metadata": {},
   "outputs": [],
   "source": [
    "# 滑动窗口截取数据\n",
    "\n",
    "def multivariate_data(dataset, target, start_index, end_index, history_size,\n",
    "                      target_size, step, single_step=False):\n",
    "    data = []\n",
    "    labels = []\n",
    "\n",
    "    start_index = start_index + history_size\n",
    "    \n",
    "    if end_index is None:\n",
    "        end_index = len(dataset) - target_size\n",
    "\n",
    "    for i in range(start_index, end_index):\n",
    "        indices = range(i-history_size, i, step) # step表示滑动步长\n",
    "        data.append(dataset[indices])\n",
    "\n",
    "        if single_step:\n",
    "            labels.append(target[i+target_size])\n",
    "        else:\n",
    "            labels.append(target[i:i+target_size])\n",
    "\n",
    "    return np.array(data), np.array(labels)"
   ]
  },
  {
   "cell_type": "code",
   "execution_count": 15,
   "id": "edbaa000",
   "metadata": {},
   "outputs": [
    {
     "name": "stdout",
     "output_type": "stream",
     "text": [
      "(24520, 8, 8)\n",
      "[0.05500251 0.0544244  0.04823228 ... 0.0103412  0.0256572  0.02965432]\n",
      "(7000, 8, 8)\n",
      "(3496, 8, 8)\n",
      "[[[0.01158682 0.         0.         ... 0.78527488 0.55176108 0.00357097]\n",
      "  [0.         0.         0.         ... 0.78237802 0.5788346  0.00441958]\n",
      "  [0.         0.         0.         ... 0.77834196 0.59774928 0.0039996 ]\n",
      "  ...\n",
      "  [0.08708303 0.02469605 0.05893128 ... 0.76854474 0.5250771  0.00557941]\n",
      "  [0.13743115 0.06990881 0.09083192 ... 0.76463887 0.55284315 0.02440529]\n",
      "  [0.09768264 0.13046163 0.10450362 ... 0.76017967 0.56371801 0.04186594]]\n",
      "\n",
      " [[0.         0.         0.         ... 0.78237802 0.5788346  0.00441958]\n",
      "  [0.         0.         0.         ... 0.77834196 0.59774928 0.0039996 ]\n",
      "  [0.04250234 0.         0.         ... 0.77287374 0.55895688 0.00329433]\n",
      "  ...\n",
      "  [0.13743115 0.06990881 0.09083192 ... 0.76463887 0.55284315 0.02440529]\n",
      "  [0.09768264 0.13046163 0.10450362 ... 0.76017967 0.56371801 0.04186594]\n",
      "  [0.08708303 0.12077318 0.11361809 ... 0.75484165 0.55699832 0.05500251]]\n",
      "\n",
      " [[0.         0.         0.         ... 0.77834196 0.59774928 0.0039996 ]\n",
      "  [0.04250234 0.         0.         ... 0.77287374 0.55895688 0.00329433]\n",
      "  [0.05408916 0.         0.01326959 ... 0.77375256 0.54429476 0.00274888]\n",
      "  ...\n",
      "  [0.09768264 0.13046163 0.10450362 ... 0.76017967 0.56371801 0.04186594]\n",
      "  [0.08708303 0.12077318 0.11361809 ... 0.75484165 0.55699832 0.05500251]\n",
      "  [0.         0.00707637 0.12501117 ... 0.75497185 0.56237624 0.0544244 ]]\n",
      "\n",
      " ...\n",
      "\n",
      " [[0.11623194 0.10139628 0.08171745 ... 0.67112587 0.60132013 0.00116977]\n",
      "  [0.08178323 0.06022036 0.03985345 ... 0.67356703 0.51809771 0.00098085]\n",
      "  [0.10298244 0.09897416 0.09083192 ... 0.67662663 0.43118541 0.00094307]\n",
      "  ...\n",
      "  [0.0272784  0.0331022  0.0466893  ... 0.68020701 0.30754748 0.00098745]\n",
      "  [0.06609166 0.06174012 0.07260298 ... 0.68036976 0.32674349 0.00094245]\n",
      "  [0.12948145 0.12319529 0.12728979 ... 0.68440582 0.31284965 0.00207865]]\n",
      "\n",
      " [[0.08178323 0.06022036 0.03985345 ... 0.67356703 0.51809771 0.00098085]\n",
      "  [0.10298244 0.09897416 0.09083192 ... 0.67662663 0.43118541 0.00094307]\n",
      "  [0.08708303 0.09412994 0.0885533  ... 0.6776031  0.370178   0.00090655]\n",
      "  ...\n",
      "  [0.06609166 0.06174012 0.07260298 ... 0.68036976 0.32674349 0.00094245]\n",
      "  [0.12948145 0.12319529 0.12728979 ... 0.68440582 0.31284965 0.00207865]\n",
      "  [0.1309363  0.14015008 0.13640425 ... 0.67962113 0.27960829 0.0103412 ]]\n",
      "\n",
      " [[0.10298244 0.09897416 0.09083192 ... 0.67662663 0.43118541 0.00094307]\n",
      "  [0.08708303 0.09412994 0.0885533  ... 0.6776031  0.370178   0.00090655]\n",
      "  [0.01932869 0.01894947 0.04128317 ... 0.68092309 0.34102689 0.0009037 ]\n",
      "  ...\n",
      "  [0.12948145 0.12319529 0.12728979 ... 0.68440582 0.31284965 0.00207865]\n",
      "  [0.1309363  0.14015008 0.13640425 ... 0.67962113 0.27960829 0.0103412 ]\n",
      "  [0.17717967 0.14741641 0.14096149 ... 0.67402272 0.26369096 0.0256572 ]]]\n",
      "(3496,)\n"
     ]
    }
   ],
   "source": [
    "past_history = 8  #2小时观测值\n",
    "future_target = 0  #下一个时间点的\n",
    "STEP = 1\n",
    "\n",
    "x_train_single, y_train_single = multivariate_data(x, x[:, -1], 0,\n",
    "                                                   24528, past_history,\n",
    "                                                   future_target, STEP,\n",
    "                                                   single_step=True)\n",
    "x_val_single, y_val_single = multivariate_data(x, x[:, -1],\n",
    "                                              24528 , 31536, past_history,\n",
    "                                               future_target, STEP,\n",
    "                                               single_step=True)\n",
    "x_test_single, y_test_single = multivariate_data(x, x[:, -1],\n",
    "                                               31536, None, past_history,\n",
    "                                               future_target, STEP,\n",
    "                                               single_step=True)\n",
    "print(x_train_single.shape)\n",
    "print(y_train_single)\n",
    "print(x_val_single.shape)\n",
    "print(x_test_single.shape)\n",
    "print(x_train_single)\n",
    "print(y_test_single.shape)"
   ]
  },
  {
   "cell_type": "code",
   "execution_count": 16,
   "id": "66ab77f5",
   "metadata": {},
   "outputs": [
    {
     "name": "stderr",
     "output_type": "stream",
     "text": [
      "D:\\JetBrains\\ANACONDA\\envs\\py37\\lib\\site-packages\\requests\\__init__.py:114: RequestsDependencyWarning: urllib3 (1.26.14) or chardet (None)/charset_normalizer (3.2.0) doesn't match a supported version!\n",
      "  RequestsDependencyWarning,\n"
     ]
    }
   ],
   "source": [
    "import pandas as pd\n",
    "import numpy as np\n",
    "import tensorflow as tf\n",
    "from tensorflow.keras.layers import LSTM,Bidirectional,GRU,Input, Conv1D,Multiply,Flatten,MaxPooling1D,concatenate\n",
    "from tensorflow.keras.layers import Dense, Activation, BatchNormalization, Dropout,Permute,Lambda,RepeatVector\n",
    "from tensorflow.keras import regularizers\n",
    "from tensorflow.keras.optimizers import RMSprop, Adam, SGD\n",
    "import datetime\n",
    "import matplotlib.pyplot as plt\n",
    "import seaborn as sns\n",
    "import keras.backend as K\n",
    "from keras_self_attention import SeqSelfAttention\n",
    "from tensorflow.keras.models import Model\n",
    "from sklearn.preprocessing import MinMaxScaler\n",
    "from tensorflow.keras.callbacks import ReduceLROnPlateau,ModelCheckpoint"
   ]
  },
  {
   "cell_type": "code",
   "execution_count": 17,
   "id": "d751d12b",
   "metadata": {},
   "outputs": [],
   "source": [
    "# callbacks_list=[   \n",
    "# #     ReduceLROnPlateau(\n",
    "# #     monitor='val_loss',  # 监控验证集上的损失\n",
    "# #     factor=0.5,  # 学习率调整的因子\n",
    "# #     patience=3,  # 等待的轮数\n",
    "# #     min_lr=0.00001,  # 学习率的下限\n",
    "# #     verbose=1  # 打印相关信息\n",
    "# #  ),\n",
    "#     ModelCheckpoint(\n",
    "#         filepath='my_model.h5',#模型保存路径\n",
    "#         monitor='val_loss',#检测验证集损失值\n",
    "#         save_best_only=True#是否只保存最佳模型\n",
    "#     )\n",
    "\n",
    "# ]\n",
    "\n",
    "\n",
    "def double_CNN_GRU():\n",
    "    visible1 = Input(shape=(8, 8))\n",
    "    cnn1 = Conv1D(filters=8, kernel_size=1, activation='relu')(visible1)   #output_length = seq_length - kernel_size + 1=24-3+1=22  (22,8)\n",
    "    cnn1 = MaxPooling1D(pool_size=2)(cnn1)  #output_length = ceil(seq_length / pool_size)=22/2=11   (11,8)\n",
    "    cnn2 = Conv1D(filters=16, kernel_size=3, activation='relu')(cnn1)  #11-3+1=9   (9,16)\n",
    "    cnn2 = MaxPooling1D(pool_size=2)(cnn2)   # (9/2,16)=(4,16)\n",
    "    cnn = Flatten()(cnn2)  #4*16=64\n",
    "    \n",
    "    visible2 = Input(shape=(8, 8))  \n",
    "    gru1 = GRU(units=32, return_sequences=True,kernel_regularizer=tf.keras.regularizers.l2(0.01))(visible2)   #(24,32)\n",
    "    gru2 = GRU(units=16, return_sequences=False,kernel_regularizer=tf.keras.regularizers.l2(0.01),)(gru1)\n",
    "    gru = Flatten()(gru2)\n",
    "    \n",
    "    merge = concatenate([cnn, gru])\n",
    "    \n",
    "#     means = Lambda(lambda x: K.mean(x, axis=1))(merge)\n",
    "    attention_probs = Dense(32, activation='sigmoid', name='attention_vec')(merge)\n",
    "    attention_mul = Multiply()([merge, attention_probs])\n",
    "    \n",
    "    \n",
    "    F = Flatten()(attention_mul)\n",
    "    dense = Dense(units=64, activation='relu')(F)\n",
    "    output = Dense(units=1,activation='relu')(dense)\n",
    "    model = Model(inputs=[visible1, visible2], outputs=output)\n",
    "    adam = Adam(learning_rate=0.001)\n",
    "    return model"
   ]
  },
  {
   "cell_type": "code",
   "execution_count": 18,
   "id": "6f5aeab0",
   "metadata": {},
   "outputs": [
    {
     "name": "stdout",
     "output_type": "stream",
     "text": [
      "Model: \"model\"\n",
      "__________________________________________________________________________________________________\n",
      " Layer (type)                   Output Shape         Param #     Connected to                     \n",
      "==================================================================================================\n",
      " input_1 (InputLayer)           [(None, 8, 8)]       0           []                               \n",
      "                                                                                                  \n",
      " conv1d (Conv1D)                (None, 8, 8)         72          ['input_1[0][0]']                \n",
      "                                                                                                  \n",
      " max_pooling1d (MaxPooling1D)   (None, 4, 8)         0           ['conv1d[0][0]']                 \n",
      "                                                                                                  \n",
      " input_2 (InputLayer)           [(None, 8, 8)]       0           []                               \n",
      "                                                                                                  \n",
      " conv1d_1 (Conv1D)              (None, 2, 16)        400         ['max_pooling1d[0][0]']          \n",
      "                                                                                                  \n",
      " gru (GRU)                      (None, 8, 32)        4032        ['input_2[0][0]']                \n",
      "                                                                                                  \n",
      " max_pooling1d_1 (MaxPooling1D)  (None, 1, 16)       0           ['conv1d_1[0][0]']               \n",
      "                                                                                                  \n",
      " gru_1 (GRU)                    (None, 16)           2400        ['gru[0][0]']                    \n",
      "                                                                                                  \n",
      " flatten (Flatten)              (None, 16)           0           ['max_pooling1d_1[0][0]']        \n",
      "                                                                                                  \n",
      " flatten_1 (Flatten)            (None, 16)           0           ['gru_1[0][0]']                  \n",
      "                                                                                                  \n",
      " concatenate (Concatenate)      (None, 32)           0           ['flatten[0][0]',                \n",
      "                                                                  'flatten_1[0][0]']              \n",
      "                                                                                                  \n",
      " attention_vec (Dense)          (None, 32)           1056        ['concatenate[0][0]']            \n",
      "                                                                                                  \n",
      " multiply (Multiply)            (None, 32)           0           ['concatenate[0][0]',            \n",
      "                                                                  'attention_vec[0][0]']          \n",
      "                                                                                                  \n",
      " flatten_2 (Flatten)            (None, 32)           0           ['multiply[0][0]']               \n",
      "                                                                                                  \n",
      " dense (Dense)                  (None, 64)           2112        ['flatten_2[0][0]']              \n",
      "                                                                                                  \n",
      " dense_1 (Dense)                (None, 1)            65          ['dense[0][0]']                  \n",
      "                                                                                                  \n",
      "==================================================================================================\n",
      "Total params: 10,137\n",
      "Trainable params: 10,137\n",
      "Non-trainable params: 0\n",
      "__________________________________________________________________________________________________\n"
     ]
    }
   ],
   "source": [
    "m = double_CNN_GRU()\n",
    "m.summary()"
   ]
  },
  {
   "cell_type": "code",
   "execution_count": 19,
   "id": "a3ba6a11",
   "metadata": {},
   "outputs": [
    {
     "name": "stdout",
     "output_type": "stream",
     "text": [
      "Epoch 1/100\n",
      "192/192 [==============================] - 5s 10ms/step - loss: 0.2541 - root_mean_squared_error: 0.1473 - val_loss: 0.0642 - val_root_mean_squared_error: 0.0750\n",
      "Epoch 2/100\n",
      "192/192 [==============================] - 1s 7ms/step - loss: 0.0280 - root_mean_squared_error: 0.0800 - val_loss: 0.0092 - val_root_mean_squared_error: 0.0658\n",
      "Epoch 3/100\n",
      "192/192 [==============================] - 1s 7ms/step - loss: 0.0077 - root_mean_squared_error: 0.0750 - val_loss: 0.0045 - val_root_mean_squared_error: 0.0620\n",
      "Epoch 4/100\n",
      "192/192 [==============================] - 1s 8ms/step - loss: 0.0056 - root_mean_squared_error: 0.0722 - val_loss: 0.0039 - val_root_mean_squared_error: 0.0614\n",
      "Epoch 5/100\n",
      "192/192 [==============================] - 1s 7ms/step - loss: 0.0050 - root_mean_squared_error: 0.0698 - val_loss: 0.0036 - val_root_mean_squared_error: 0.0595\n",
      "Epoch 6/100\n",
      "192/192 [==============================] - 1s 7ms/step - loss: 0.0046 - root_mean_squared_error: 0.0679 - val_loss: 0.0034 - val_root_mean_squared_error: 0.0585\n",
      "Epoch 7/100\n",
      "192/192 [==============================] - 1s 8ms/step - loss: 0.0044 - root_mean_squared_error: 0.0664 - val_loss: 0.0033 - val_root_mean_squared_error: 0.0576\n",
      "Epoch 8/100\n",
      "192/192 [==============================] - 1s 7ms/step - loss: 0.0042 - root_mean_squared_error: 0.0651 - val_loss: 0.0030 - val_root_mean_squared_error: 0.0546\n",
      "Epoch 9/100\n",
      "192/192 [==============================] - 1s 7ms/step - loss: 0.0041 - root_mean_squared_error: 0.0642 - val_loss: 0.0033 - val_root_mean_squared_error: 0.0570\n",
      "Epoch 10/100\n",
      "192/192 [==============================] - 1s 7ms/step - loss: 0.0040 - root_mean_squared_error: 0.0634 - val_loss: 0.0030 - val_root_mean_squared_error: 0.0544\n",
      "Epoch 11/100\n",
      "192/192 [==============================] - 2s 8ms/step - loss: 0.0039 - root_mean_squared_error: 0.0628 - val_loss: 0.0031 - val_root_mean_squared_error: 0.0553\n",
      "Epoch 12/100\n",
      "192/192 [==============================] - 2s 8ms/step - loss: 0.0038 - root_mean_squared_error: 0.0619 - val_loss: 0.0029 - val_root_mean_squared_error: 0.0537\n",
      "Epoch 13/100\n",
      "192/192 [==============================] - 2s 8ms/step - loss: 0.0038 - root_mean_squared_error: 0.0619 - val_loss: 0.0034 - val_root_mean_squared_error: 0.0584\n",
      "Epoch 14/100\n",
      "192/192 [==============================] - 2s 8ms/step - loss: 0.0038 - root_mean_squared_error: 0.0617 - val_loss: 0.0028 - val_root_mean_squared_error: 0.0527\n",
      "Epoch 15/100\n",
      "192/192 [==============================] - 2s 8ms/step - loss: 0.0037 - root_mean_squared_error: 0.0611 - val_loss: 0.0034 - val_root_mean_squared_error: 0.0586\n",
      "Epoch 16/100\n",
      "192/192 [==============================] - 2s 8ms/step - loss: 0.0037 - root_mean_squared_error: 0.0606 - val_loss: 0.0026 - val_root_mean_squared_error: 0.0511\n",
      "Epoch 17/100\n",
      "192/192 [==============================] - 1s 7ms/step - loss: 0.0037 - root_mean_squared_error: 0.0607 - val_loss: 0.0032 - val_root_mean_squared_error: 0.0564\n",
      "Epoch 18/100\n",
      "192/192 [==============================] - 1s 7ms/step - loss: 0.0036 - root_mean_squared_error: 0.0603 - val_loss: 0.0026 - val_root_mean_squared_error: 0.0506\n",
      "Epoch 19/100\n",
      "192/192 [==============================] - 1s 7ms/step - loss: 0.0035 - root_mean_squared_error: 0.0593 - val_loss: 0.0027 - val_root_mean_squared_error: 0.0523\n",
      "Epoch 20/100\n",
      "192/192 [==============================] - 2s 9ms/step - loss: 0.0036 - root_mean_squared_error: 0.0596 - val_loss: 0.0026 - val_root_mean_squared_error: 0.0512\n",
      "Epoch 21/100\n",
      "192/192 [==============================] - 2s 8ms/step - loss: 0.0034 - root_mean_squared_error: 0.0587 - val_loss: 0.0035 - val_root_mean_squared_error: 0.0590\n",
      "Epoch 22/100\n",
      "192/192 [==============================] - 2s 9ms/step - loss: 0.0034 - root_mean_squared_error: 0.0584 - val_loss: 0.0026 - val_root_mean_squared_error: 0.0512\n",
      "Epoch 23/100\n",
      "192/192 [==============================] - 2s 8ms/step - loss: 0.0034 - root_mean_squared_error: 0.0584 - val_loss: 0.0024 - val_root_mean_squared_error: 0.0489\n",
      "Epoch 24/100\n",
      "192/192 [==============================] - 1s 8ms/step - loss: 0.0033 - root_mean_squared_error: 0.0578 - val_loss: 0.0025 - val_root_mean_squared_error: 0.0497\n",
      "Epoch 25/100\n",
      "192/192 [==============================] - 1s 7ms/step - loss: 0.0033 - root_mean_squared_error: 0.0573 - val_loss: 0.0026 - val_root_mean_squared_error: 0.0508\n",
      "Epoch 26/100\n",
      "192/192 [==============================] - 2s 8ms/step - loss: 0.0034 - root_mean_squared_error: 0.0581 - val_loss: 0.0026 - val_root_mean_squared_error: 0.0510\n",
      "Epoch 27/100\n",
      "192/192 [==============================] - 2s 8ms/step - loss: 0.0032 - root_mean_squared_error: 0.0568 - val_loss: 0.0025 - val_root_mean_squared_error: 0.0501\n",
      "Epoch 28/100\n",
      "192/192 [==============================] - 2s 8ms/step - loss: 0.0032 - root_mean_squared_error: 0.0569 - val_loss: 0.0026 - val_root_mean_squared_error: 0.0512\n",
      "Epoch 29/100\n",
      "192/192 [==============================] - 1s 8ms/step - loss: 0.0032 - root_mean_squared_error: 0.0564 - val_loss: 0.0024 - val_root_mean_squared_error: 0.0488\n",
      "Epoch 30/100\n",
      "192/192 [==============================] - 2s 8ms/step - loss: 0.0032 - root_mean_squared_error: 0.0565 - val_loss: 0.0022 - val_root_mean_squared_error: 0.0472\n",
      "Epoch 31/100\n",
      "192/192 [==============================] - 2s 8ms/step - loss: 0.0031 - root_mean_squared_error: 0.0559 - val_loss: 0.0022 - val_root_mean_squared_error: 0.0468\n",
      "Epoch 32/100\n",
      "192/192 [==============================] - 1s 8ms/step - loss: 0.0031 - root_mean_squared_error: 0.0560 - val_loss: 0.0023 - val_root_mean_squared_error: 0.0483\n",
      "Epoch 33/100\n",
      "192/192 [==============================] - 1s 8ms/step - loss: 0.0031 - root_mean_squared_error: 0.0559 - val_loss: 0.0022 - val_root_mean_squared_error: 0.0469\n",
      "Epoch 34/100\n",
      "192/192 [==============================] - 1s 8ms/step - loss: 0.0031 - root_mean_squared_error: 0.0557 - val_loss: 0.0022 - val_root_mean_squared_error: 0.0473\n",
      "Epoch 35/100\n",
      "192/192 [==============================] - 1s 8ms/step - loss: 0.0030 - root_mean_squared_error: 0.0550 - val_loss: 0.0023 - val_root_mean_squared_error: 0.0475\n",
      "Epoch 36/100\n",
      "192/192 [==============================] - 1s 8ms/step - loss: 0.0031 - root_mean_squared_error: 0.0553 - val_loss: 0.0021 - val_root_mean_squared_error: 0.0456\n",
      "Epoch 37/100\n",
      "192/192 [==============================] - 2s 8ms/step - loss: 0.0030 - root_mean_squared_error: 0.0550 - val_loss: 0.0025 - val_root_mean_squared_error: 0.0495\n",
      "Epoch 38/100\n",
      "192/192 [==============================] - 2s 10ms/step - loss: 0.0030 - root_mean_squared_error: 0.0550 - val_loss: 0.0025 - val_root_mean_squared_error: 0.0500\n",
      "Epoch 39/100\n",
      "192/192 [==============================] - 2s 12ms/step - loss: 0.0030 - root_mean_squared_error: 0.0547 - val_loss: 0.0026 - val_root_mean_squared_error: 0.0509\n",
      "Epoch 40/100\n",
      "192/192 [==============================] - 1s 7ms/step - loss: 0.0030 - root_mean_squared_error: 0.0545 - val_loss: 0.0022 - val_root_mean_squared_error: 0.0465\n",
      "Epoch 41/100\n",
      "192/192 [==============================] - 1s 7ms/step - loss: 0.0029 - root_mean_squared_error: 0.0538 - val_loss: 0.0020 - val_root_mean_squared_error: 0.0447\n",
      "Epoch 42/100\n",
      "192/192 [==============================] - 1s 8ms/step - loss: 0.0030 - root_mean_squared_error: 0.0546 - val_loss: 0.0021 - val_root_mean_squared_error: 0.0459\n",
      "Epoch 43/100\n",
      "192/192 [==============================] - 1s 7ms/step - loss: 0.0030 - root_mean_squared_error: 0.0544 - val_loss: 0.0022 - val_root_mean_squared_error: 0.0471\n",
      "Epoch 44/100\n",
      "192/192 [==============================] - 2s 8ms/step - loss: 0.0029 - root_mean_squared_error: 0.0536 - val_loss: 0.0021 - val_root_mean_squared_error: 0.0457\n",
      "Epoch 45/100\n",
      "192/192 [==============================] - 1s 8ms/step - loss: 0.0029 - root_mean_squared_error: 0.0540 - val_loss: 0.0021 - val_root_mean_squared_error: 0.0459\n",
      "Epoch 46/100\n",
      "192/192 [==============================] - 2s 8ms/step - loss: 0.0029 - root_mean_squared_error: 0.0541 - val_loss: 0.0020 - val_root_mean_squared_error: 0.0447\n",
      "Epoch 47/100\n",
      "192/192 [==============================] - 2s 8ms/step - loss: 0.0029 - root_mean_squared_error: 0.0539 - val_loss: 0.0020 - val_root_mean_squared_error: 0.0449\n",
      "Epoch 48/100\n",
      "192/192 [==============================] - 2s 8ms/step - loss: 0.0029 - root_mean_squared_error: 0.0537 - val_loss: 0.0019 - val_root_mean_squared_error: 0.0440\n",
      "Epoch 49/100\n",
      "192/192 [==============================] - 2s 8ms/step - loss: 0.0028 - root_mean_squared_error: 0.0534 - val_loss: 0.0021 - val_root_mean_squared_error: 0.0456\n",
      "Epoch 50/100\n",
      "192/192 [==============================] - 2s 8ms/step - loss: 0.0028 - root_mean_squared_error: 0.0532 - val_loss: 0.0020 - val_root_mean_squared_error: 0.0449\n",
      "Epoch 51/100\n",
      "192/192 [==============================] - 2s 9ms/step - loss: 0.0029 - root_mean_squared_error: 0.0535 - val_loss: 0.0019 - val_root_mean_squared_error: 0.0441\n",
      "Epoch 52/100\n",
      "192/192 [==============================] - 1s 8ms/step - loss: 0.0029 - root_mean_squared_error: 0.0535 - val_loss: 0.0023 - val_root_mean_squared_error: 0.0482\n",
      "Epoch 53/100\n",
      "192/192 [==============================] - 2s 8ms/step - loss: 0.0029 - root_mean_squared_error: 0.0536 - val_loss: 0.0021 - val_root_mean_squared_error: 0.0454\n",
      "Epoch 54/100\n",
      "192/192 [==============================] - 1s 8ms/step - loss: 0.0028 - root_mean_squared_error: 0.0530 - val_loss: 0.0019 - val_root_mean_squared_error: 0.0437\n",
      "Epoch 55/100\n",
      "192/192 [==============================] - 2s 9ms/step - loss: 0.0028 - root_mean_squared_error: 0.0529 - val_loss: 0.0021 - val_root_mean_squared_error: 0.0455\n",
      "Epoch 56/100\n",
      "192/192 [==============================] - 1s 8ms/step - loss: 0.0029 - root_mean_squared_error: 0.0537 - val_loss: 0.0020 - val_root_mean_squared_error: 0.0451\n",
      "Epoch 57/100\n",
      "192/192 [==============================] - 1s 7ms/step - loss: 0.0028 - root_mean_squared_error: 0.0531 - val_loss: 0.0020 - val_root_mean_squared_error: 0.0448\n",
      "Epoch 58/100\n",
      "192/192 [==============================] - 1s 7ms/step - loss: 0.0028 - root_mean_squared_error: 0.0531 - val_loss: 0.0021 - val_root_mean_squared_error: 0.0459\n",
      "Epoch 59/100\n",
      "192/192 [==============================] - 1s 7ms/step - loss: 0.0028 - root_mean_squared_error: 0.0529 - val_loss: 0.0019 - val_root_mean_squared_error: 0.0435\n",
      "Epoch 60/100\n",
      "192/192 [==============================] - 1s 8ms/step - loss: 0.0027 - root_mean_squared_error: 0.0524 - val_loss: 0.0019 - val_root_mean_squared_error: 0.0438\n",
      "Epoch 61/100\n",
      "192/192 [==============================] - 1s 7ms/step - loss: 0.0028 - root_mean_squared_error: 0.0529 - val_loss: 0.0020 - val_root_mean_squared_error: 0.0446\n",
      "Epoch 62/100\n",
      "192/192 [==============================] - 1s 7ms/step - loss: 0.0028 - root_mean_squared_error: 0.0532 - val_loss: 0.0020 - val_root_mean_squared_error: 0.0443\n",
      "Epoch 63/100\n",
      "192/192 [==============================] - 1s 7ms/step - loss: 0.0028 - root_mean_squared_error: 0.0528 - val_loss: 0.0022 - val_root_mean_squared_error: 0.0469\n",
      "Epoch 64/100\n",
      "192/192 [==============================] - 1s 7ms/step - loss: 0.0028 - root_mean_squared_error: 0.0525 - val_loss: 0.0019 - val_root_mean_squared_error: 0.0439\n",
      "Epoch 65/100\n",
      "192/192 [==============================] - 1s 7ms/step - loss: 0.0027 - root_mean_squared_error: 0.0524 - val_loss: 0.0020 - val_root_mean_squared_error: 0.0445\n",
      "Epoch 66/100\n",
      "192/192 [==============================] - 1s 7ms/step - loss: 0.0028 - root_mean_squared_error: 0.0526 - val_loss: 0.0019 - val_root_mean_squared_error: 0.0438\n",
      "Epoch 67/100\n",
      "192/192 [==============================] - 1s 7ms/step - loss: 0.0027 - root_mean_squared_error: 0.0523 - val_loss: 0.0021 - val_root_mean_squared_error: 0.0459\n",
      "Epoch 68/100\n",
      "192/192 [==============================] - 1s 7ms/step - loss: 0.0028 - root_mean_squared_error: 0.0528 - val_loss: 0.0020 - val_root_mean_squared_error: 0.0444\n",
      "Epoch 69/100\n",
      "192/192 [==============================] - 1s 8ms/step - loss: 0.0027 - root_mean_squared_error: 0.0524 - val_loss: 0.0019 - val_root_mean_squared_error: 0.0437\n",
      "Epoch 70/100\n",
      "192/192 [==============================] - 1s 7ms/step - loss: 0.0027 - root_mean_squared_error: 0.0523 - val_loss: 0.0019 - val_root_mean_squared_error: 0.0435\n",
      "Epoch 71/100\n",
      "192/192 [==============================] - 1s 7ms/step - loss: 0.0027 - root_mean_squared_error: 0.0521 - val_loss: 0.0021 - val_root_mean_squared_error: 0.0461\n",
      "Epoch 72/100\n",
      "192/192 [==============================] - 2s 9ms/step - loss: 0.0027 - root_mean_squared_error: 0.0523 - val_loss: 0.0020 - val_root_mean_squared_error: 0.0448\n",
      "Epoch 73/100\n",
      "192/192 [==============================] - 1s 7ms/step - loss: 0.0027 - root_mean_squared_error: 0.0524 - val_loss: 0.0019 - val_root_mean_squared_error: 0.0433\n",
      "Epoch 74/100\n",
      "192/192 [==============================] - 1s 7ms/step - loss: 0.0027 - root_mean_squared_error: 0.0524 - val_loss: 0.0020 - val_root_mean_squared_error: 0.0442\n",
      "Epoch 75/100\n",
      "192/192 [==============================] - 1s 7ms/step - loss: 0.0027 - root_mean_squared_error: 0.0521 - val_loss: 0.0018 - val_root_mean_squared_error: 0.0430\n",
      "Epoch 76/100\n",
      "192/192 [==============================] - 1s 8ms/step - loss: 0.0027 - root_mean_squared_error: 0.0521 - val_loss: 0.0019 - val_root_mean_squared_error: 0.0440\n",
      "Epoch 77/100\n",
      "192/192 [==============================] - 1s 7ms/step - loss: 0.0028 - root_mean_squared_error: 0.0526 - val_loss: 0.0021 - val_root_mean_squared_error: 0.0458\n",
      "Epoch 78/100\n",
      "192/192 [==============================] - 1s 8ms/step - loss: 0.0028 - root_mean_squared_error: 0.0525 - val_loss: 0.0019 - val_root_mean_squared_error: 0.0433\n",
      "Epoch 79/100\n",
      "192/192 [==============================] - 1s 7ms/step - loss: 0.0027 - root_mean_squared_error: 0.0519 - val_loss: 0.0019 - val_root_mean_squared_error: 0.0433\n",
      "Epoch 80/100\n",
      "192/192 [==============================] - 1s 7ms/step - loss: 0.0028 - root_mean_squared_error: 0.0525 - val_loss: 0.0021 - val_root_mean_squared_error: 0.0459\n",
      "Epoch 81/100\n",
      "192/192 [==============================] - 1s 7ms/step - loss: 0.0027 - root_mean_squared_error: 0.0519 - val_loss: 0.0018 - val_root_mean_squared_error: 0.0430\n",
      "Epoch 82/100\n",
      "192/192 [==============================] - 1s 7ms/step - loss: 0.0027 - root_mean_squared_error: 0.0519 - val_loss: 0.0019 - val_root_mean_squared_error: 0.0433\n",
      "Epoch 83/100\n",
      "192/192 [==============================] - 1s 7ms/step - loss: 0.0027 - root_mean_squared_error: 0.0520 - val_loss: 0.0020 - val_root_mean_squared_error: 0.0453\n",
      "Epoch 84/100\n",
      "192/192 [==============================] - 1s 7ms/step - loss: 0.0027 - root_mean_squared_error: 0.0518 - val_loss: 0.0024 - val_root_mean_squared_error: 0.0487\n",
      "Epoch 85/100\n",
      "192/192 [==============================] - 1s 7ms/step - loss: 0.0027 - root_mean_squared_error: 0.0520 - val_loss: 0.0019 - val_root_mean_squared_error: 0.0432\n",
      "Epoch 86/100\n",
      "192/192 [==============================] - 1s 7ms/step - loss: 0.0027 - root_mean_squared_error: 0.0518 - val_loss: 0.0018 - val_root_mean_squared_error: 0.0426\n",
      "Epoch 87/100\n",
      "192/192 [==============================] - 1s 7ms/step - loss: 0.0027 - root_mean_squared_error: 0.0520 - val_loss: 0.0021 - val_root_mean_squared_error: 0.0453\n",
      "Epoch 88/100\n",
      "192/192 [==============================] - 1s 7ms/step - loss: 0.0027 - root_mean_squared_error: 0.0521 - val_loss: 0.0018 - val_root_mean_squared_error: 0.0429\n",
      "Epoch 89/100\n",
      "192/192 [==============================] - 1s 7ms/step - loss: 0.0027 - root_mean_squared_error: 0.0519 - val_loss: 0.0024 - val_root_mean_squared_error: 0.0490\n",
      "Epoch 90/100\n",
      "192/192 [==============================] - 1s 8ms/step - loss: 0.0027 - root_mean_squared_error: 0.0516 - val_loss: 0.0018 - val_root_mean_squared_error: 0.0429\n",
      "Epoch 91/100\n",
      "192/192 [==============================] - 1s 7ms/step - loss: 0.0027 - root_mean_squared_error: 0.0516 - val_loss: 0.0018 - val_root_mean_squared_error: 0.0425\n",
      "Epoch 92/100\n",
      "192/192 [==============================] - 1s 7ms/step - loss: 0.0027 - root_mean_squared_error: 0.0516 - val_loss: 0.0020 - val_root_mean_squared_error: 0.0443\n",
      "Epoch 93/100\n",
      "192/192 [==============================] - 1s 7ms/step - loss: 0.0027 - root_mean_squared_error: 0.0518 - val_loss: 0.0018 - val_root_mean_squared_error: 0.0429\n",
      "Epoch 94/100\n",
      "192/192 [==============================] - 1s 7ms/step - loss: 0.0027 - root_mean_squared_error: 0.0516 - val_loss: 0.0020 - val_root_mean_squared_error: 0.0452\n",
      "Epoch 95/100\n"
     ]
    },
    {
     "name": "stdout",
     "output_type": "stream",
     "text": [
      "192/192 [==============================] - 1s 7ms/step - loss: 0.0027 - root_mean_squared_error: 0.0516 - val_loss: 0.0019 - val_root_mean_squared_error: 0.0439\n",
      "Epoch 96/100\n",
      "192/192 [==============================] - 1s 7ms/step - loss: 0.0027 - root_mean_squared_error: 0.0516 - val_loss: 0.0019 - val_root_mean_squared_error: 0.0431\n",
      "Epoch 97/100\n",
      "192/192 [==============================] - 1s 7ms/step - loss: 0.0027 - root_mean_squared_error: 0.0517 - val_loss: 0.0018 - val_root_mean_squared_error: 0.0429\n",
      "Epoch 98/100\n",
      "192/192 [==============================] - 1s 7ms/step - loss: 0.0026 - root_mean_squared_error: 0.0514 - val_loss: 0.0019 - val_root_mean_squared_error: 0.0433\n",
      "Epoch 99/100\n",
      "192/192 [==============================] - 1s 7ms/step - loss: 0.0027 - root_mean_squared_error: 0.0516 - val_loss: 0.0018 - val_root_mean_squared_error: 0.0428\n",
      "Epoch 100/100\n",
      "192/192 [==============================] - 1s 7ms/step - loss: 0.0026 - root_mean_squared_error: 0.0513 - val_loss: 0.0019 - val_root_mean_squared_error: 0.0431\n"
     ]
    }
   ],
   "source": [
    "m.compile(optimizer='adam', loss='mse',metrics = [tf.keras.metrics.RootMeanSquaredError()])\n",
    "hist = m.fit([x_train_single,x_train_single],y_train_single,epochs=100, batch_size=128,  validation_data=([x_val_single,x_val_single], y_val_single),verbose=1)"
   ]
  },
  {
   "cell_type": "code",
   "execution_count": 20,
   "id": "eedb637f",
   "metadata": {},
   "outputs": [
    {
     "data": {
      "image/png": "[encoded data removed]",
      "text/plain": [
       "<Figure size 640x480 with 1 Axes>"
      ]
     },
     "metadata": {},
     "output_type": "display_data"
    }
   ],
   "source": [
    "# 绘制损失函数曲线\n",
    "plt.plot(hist.history['loss'])\n",
    "plt.plot(hist.history['val_loss'])\n",
    "plt.title('Model Loss')\n",
    "plt.ylabel('Loss')\n",
    "plt.xlabel('Epoch')\n",
    "plt.legend(['Train', 'val'], loc='upper right')\n",
    "plt.show()"
   ]
  },
  {
   "cell_type": "code",
   "execution_count": 21,
   "id": "544d7604",
   "metadata": {},
   "outputs": [
    {
     "name": "stdout",
     "output_type": "stream",
     "text": [
      "110/110 [==============================] - 1s 2ms/step\n"
     ]
    }
   ],
   "source": [
    "y_pred = m.predict([x_test_single,x_test_single])"
   ]
  },
  {
   "cell_type": "code",
   "execution_count": 22,
   "id": "82979e9a",
   "metadata": {},
   "outputs": [
    {
     "name": "stdout",
     "output_type": "stream",
     "text": [
      "[[0.34460235]\n",
      " [0.28830487]\n",
      " [0.1320663 ]\n",
      " ...\n",
      " [0.6575875 ]\n",
      " [0.6613711 ]\n",
      " [0.668671  ]]\n",
      "[[ 69.857864]\n",
      " [ 58.48743 ]\n",
      " [ 26.931852]\n",
      " ...\n",
      " [133.07162 ]\n",
      " [133.8358  ]\n",
      " [135.31017 ]]\n"
     ]
    }
   ],
   "source": [
    "print(y_pred)\n",
    "\n",
    "max_target =202.22884  # 原始数据中的最大值\n",
    "min_target =0.25836  # 原始数据中的最小值\n",
    "\n",
    "y_pred_unnormalized = y_pred * (max_target - min_target) + min_target\n",
    "\n",
    "y_test_single_unnormalized = y_test_single * (max_target - min_target) + min_target\n",
    "\n",
    "\n",
    "\n",
    "y_pred_original = y_pred_unnormalized\n",
    "y_test_original = y_test_single_unnormalized\n",
    "\n",
    "print(y_pred_original)"
   ]
  },
  {
   "cell_type": "code",
   "execution_count": 23,
   "id": "52f1a32a",
   "metadata": {},
   "outputs": [
    {
     "name": "stdout",
     "output_type": "stream",
     "text": [
      "Mean Squared Error (MSE): 75.74901619878577\n",
      "Root Mean Squared Error (RMSE): 8.703391074678063\n",
      "Mean Absolute Error (MAE): 4.8399065020654\n",
      "Mean Bias Error(MBE): 0.1989245311826319\n",
      "NRMSE: 0.043153521165025785\n",
      "Explained Variance Score (EVS): 0.9632822058671878\n",
      "R² Score: 0.9632630146197435\n"
     ]
    }
   ],
   "source": [
    "# 计算均方误差 (MSE) 和均方根误差 (RMSE)\n",
    "from sklearn.metrics import mean_squared_error, mean_absolute_error,r2_score,explained_variance_score\n",
    "\n",
    "\n",
    "# 计算NRMSE\n",
    "def normalized_root_mean_squared_error(y_true, y_pred):\n",
    "    mse = mean_squared_error(y_true, y_pred)\n",
    "    rmse = np.sqrt(mse)\n",
    "    range_y = np.max(y_true) - np.min(y_true)\n",
    "    return rmse / range_y\n",
    "\n",
    "mse = mean_squared_error(y_test_original, y_pred_original)\n",
    "rmse = np.sqrt(mse)\n",
    "mae = mean_absolute_error(y_test_original, y_pred_original)\n",
    "# 计算 MBE\n",
    "mbe = np.mean(y_test_original - y_pred_original)\n",
    "nrmse = normalized_root_mean_squared_error(y_test_original, y_pred_original)\n",
    "r2 = r2_score(y_test_original, y_pred_original)\n",
    "evs = explained_variance_score(y_test_original, y_pred_original)\n",
    "print(\"Mean Squared Error (MSE):\", mse)\n",
    "print(\"Root Mean Squared Error (RMSE):\", rmse)\n",
    "print(\"Mean Absolute Error (MAE):\", mae)\n",
    "print(\"Mean Bias Error(MBE):\",mbe)\n",
    "print(\"NRMSE:\", nrmse)\n",
    "print(\"Explained Variance Score (EVS):\", evs)\n",
    "print(\"R² Score:\", r2)"
   ]
  },
  {
   "cell_type": "code",
   "execution_count": 39,
   "id": "a97095fa",
   "metadata": {},
   "outputs": [
    {
     "data": {
      "image/png": "[encoded data removed]",
      "text/plain": [
       "<Figure size 1000x600 with 1 Axes>"
      ]
     },
     "metadata": {},
     "output_type": "display_data"
    },
    {
     "data": {
      "text/plain": [
       "'\\nMean Squared Error (MSE): 6.493102995726674\\nRoot Mean Squared Error (RMSE): 2.5481567839767383\\nMean Absolute Error (MAE): 1.0492490077929333\\nMean Bias Error(MBE): 0.031978089046465534\\nNRMSE: 0.0539110592489826\\nExplained Variance Score (EVS): 0.9659083570720376\\nR² Score: 0.9659029871366942\\n'"
      ]
     },
     "execution_count": 39,
     "metadata": {},
     "output_type": "execute_result"
    }
   ],
   "source": [
    "# 创建一个新图表\n",
    "plt.figure(figsize=(10, 6))\n",
    "\n",
    "# 绘制 y_test_original（蓝色折线）\n",
    "plt.plot(y_test_original, label='Actual', color='blue')\n",
    "\n",
    "# 绘制 y_pred_original（红色折线）\n",
    "plt.plot(y_pred_original, label='Predicted', color='red')\n",
    "\n",
    "# 添加图例\n",
    "plt.legend()\n",
    "\n",
    "# 设置横轴和纵轴标签\n",
    "plt.xlabel('Time')\n",
    "plt.ylabel('Value')\n",
    "\n",
    "# 设置图表标题\n",
    "plt.title('Actual vs. Predicted Data')\n",
    "\n",
    "# 显示图表\n",
    "plt.show()\n",
    "\n",
    "\n",
    "'''\n",
    "\n",
    "'''"
   ]
  },
  {
   "cell_type": "code",
   "execution_count": null,
   "id": "14490b2b",
   "metadata": {},
   "outputs": [],
   "source": []
  }
 ],
 "metadata": {
  "kernelspec": {
   "display_name": "py37",
   "language": "python",
   "name": "py37"
  },
  "language_info": {
   "codemirror_mode": {
    "name": "ipython",
    "version": 3
   },
   "file_extension": ".py",
   "mimetype": "text/x-python",
   "name": "python",
   "nbconvert_exporter": "python",
   "pygments_lexer": "ipython3",
   "version": "3.7.0"
  }
 },
 "nbformat": 4,
 "nbformat_minor": 5
}
